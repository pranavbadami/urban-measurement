{
 "cells": [
  {
   "cell_type": "markdown",
   "metadata": {},
   "source": [
    "<h1>Test Run 1 Walkthrough</h1>"
   ]
  },
  {
   "cell_type": "code",
   "execution_count": 31,
   "metadata": {
    "collapsed": true
   },
   "outputs": [],
   "source": [
    "import pandas as pd\n",
    "import matplotlib.pyplot as plt\n",
    "import matplotlib\n",
    "matplotlib.style.use('ggplot')\n",
    "%matplotlib inline\n",
    "from PIL import Image"
   ]
  },
  {
   "cell_type": "markdown",
   "metadata": {},
   "source": [
    "<h3>Raw GPS data in python</h3>"
   ]
  },
  {
   "cell_type": "code",
   "execution_count": 42,
   "metadata": {
    "collapsed": true
   },
   "outputs": [],
   "source": [
    "data = pd.read_csv('valid.txt', header=None)\n",
    "data1 = pd.read_csv('valid1.txt', header=None)\n",
    "data2 = pd.read_csv('valid2.txt', header=None)\n",
    "data.columns = ['ID', 'Time', 'Status', 'Latitude', 'NS', 'Longitude', 'EW', 'Knots', 'Track_Angle', 'Date', 'Other1', 'Other 2', 'Other3']\n",
    "data1.columns = ['ID', 'Time', 'Status', 'Latitude', 'NS', 'Longitude', 'EW', 'Knots', 'Track_Angle', 'Date', 'Other1', 'Other 2', 'Other3']\n",
    "data2.columns = ['ID', 'Time', 'Status', 'Latitude', 'NS', 'Longitude', 'EW', 'Knots', 'Track_Angle', 'Date', 'Other1', 'Other 2', 'Other3']\n",
    "data['Longitude'] = -data['Longitude']\n",
    "#data1['Latitude'] = -data1['Latitude']\n",
    "data1['Longitude'] = -data1['Longitude']\n",
    "data2['Longitude'] = -data2['Longitude']"
   ]
  },
  {
   "cell_type": "markdown",
   "metadata": {},
   "source": [
    "<b>Here's what a sample of what the raw GPS data looks like</b>"
   ]
  },
  {
   "cell_type": "code",
   "execution_count": 45,
   "metadata": {
    "collapsed": false
   },
   "outputs": [
    {
     "data": {
      "text/html": [
       "<div>\n",
       "<table border=\"1\" class=\"dataframe\">\n",
       "  <thead>\n",
       "    <tr style=\"text-align: right;\">\n",
       "      <th></th>\n",
       "      <th>ID</th>\n",
       "      <th>Time</th>\n",
       "      <th>Status</th>\n",
       "      <th>Latitude</th>\n",
       "      <th>NS</th>\n",
       "      <th>Longitude</th>\n",
       "      <th>EW</th>\n",
       "      <th>Knots</th>\n",
       "      <th>Track_Angle</th>\n",
       "      <th>Date</th>\n",
       "      <th>Other1</th>\n",
       "      <th>Other 2</th>\n",
       "      <th>Other3</th>\n",
       "    </tr>\n",
       "  </thead>\n",
       "  <tbody>\n",
       "    <tr>\n",
       "      <th>0</th>\n",
       "      <td>$GPRMC</td>\n",
       "      <td>52708.000</td>\n",
       "      <td>A</td>\n",
       "      <td>4020.8515</td>\n",
       "      <td>N</td>\n",
       "      <td>-7439.5525</td>\n",
       "      <td>W</td>\n",
       "      <td>0.22</td>\n",
       "      <td>0.41</td>\n",
       "      <td>60317</td>\n",
       "      <td>NaN</td>\n",
       "      <td>NaN</td>\n",
       "      <td>A*73</td>\n",
       "    </tr>\n",
       "    <tr>\n",
       "      <th>1</th>\n",
       "      <td>$GPRMC</td>\n",
       "      <td>52709.000</td>\n",
       "      <td>A</td>\n",
       "      <td>4020.8515</td>\n",
       "      <td>N</td>\n",
       "      <td>-7439.5526</td>\n",
       "      <td>W</td>\n",
       "      <td>0.04</td>\n",
       "      <td>221.42</td>\n",
       "      <td>60317</td>\n",
       "      <td>NaN</td>\n",
       "      <td>NaN</td>\n",
       "      <td>A*77</td>\n",
       "    </tr>\n",
       "    <tr>\n",
       "      <th>2</th>\n",
       "      <td>$GPRMC</td>\n",
       "      <td>52710.000</td>\n",
       "      <td>A</td>\n",
       "      <td>4020.8518</td>\n",
       "      <td>N</td>\n",
       "      <td>-7439.5530</td>\n",
       "      <td>W</td>\n",
       "      <td>0.17</td>\n",
       "      <td>347.57</td>\n",
       "      <td>60317</td>\n",
       "      <td>NaN</td>\n",
       "      <td>NaN</td>\n",
       "      <td>A*72</td>\n",
       "    </tr>\n",
       "    <tr>\n",
       "      <th>3</th>\n",
       "      <td>$GPRMC</td>\n",
       "      <td>52711.000</td>\n",
       "      <td>A</td>\n",
       "      <td>4020.8521</td>\n",
       "      <td>N</td>\n",
       "      <td>-7439.5534</td>\n",
       "      <td>W</td>\n",
       "      <td>0.21</td>\n",
       "      <td>44.03</td>\n",
       "      <td>60317</td>\n",
       "      <td>NaN</td>\n",
       "      <td>NaN</td>\n",
       "      <td>A*49</td>\n",
       "    </tr>\n",
       "    <tr>\n",
       "      <th>4</th>\n",
       "      <td>$GPRMC</td>\n",
       "      <td>52712.000</td>\n",
       "      <td>A</td>\n",
       "      <td>4020.8523</td>\n",
       "      <td>N</td>\n",
       "      <td>-7439.5538</td>\n",
       "      <td>W</td>\n",
       "      <td>0.12</td>\n",
       "      <td>324.49</td>\n",
       "      <td>60317</td>\n",
       "      <td>NaN</td>\n",
       "      <td>NaN</td>\n",
       "      <td>A*7F</td>\n",
       "    </tr>\n",
       "    <tr>\n",
       "      <th>5</th>\n",
       "      <td>$GPRMC</td>\n",
       "      <td>52712.209</td>\n",
       "      <td>A</td>\n",
       "      <td>4020.8524</td>\n",
       "      <td>N</td>\n",
       "      <td>-7439.5540</td>\n",
       "      <td>W</td>\n",
       "      <td>0.10</td>\n",
       "      <td>317.39</td>\n",
       "      <td>60317</td>\n",
       "      <td>NaN</td>\n",
       "      <td>NaN</td>\n",
       "      <td>A*79</td>\n",
       "    </tr>\n",
       "    <tr>\n",
       "      <th>6</th>\n",
       "      <td>$GPRMC</td>\n",
       "      <td>52714.000</td>\n",
       "      <td>A</td>\n",
       "      <td>4020.8525</td>\n",
       "      <td>N</td>\n",
       "      <td>-7439.5542</td>\n",
       "      <td>W</td>\n",
       "      <td>0.14</td>\n",
       "      <td>3.79</td>\n",
       "      <td>60317</td>\n",
       "      <td>NaN</td>\n",
       "      <td>NaN</td>\n",
       "      <td>A*71</td>\n",
       "    </tr>\n",
       "    <tr>\n",
       "      <th>7</th>\n",
       "      <td>$GPRMC</td>\n",
       "      <td>52715.000</td>\n",
       "      <td>A</td>\n",
       "      <td>4020.8526</td>\n",
       "      <td>N</td>\n",
       "      <td>-7439.5544</td>\n",
       "      <td>W</td>\n",
       "      <td>0.15</td>\n",
       "      <td>330.85</td>\n",
       "      <td>60317</td>\n",
       "      <td>NaN</td>\n",
       "      <td>NaN</td>\n",
       "      <td>A*74</td>\n",
       "    </tr>\n",
       "    <tr>\n",
       "      <th>8</th>\n",
       "      <td>$GPRMC</td>\n",
       "      <td>52716.000</td>\n",
       "      <td>A</td>\n",
       "      <td>4020.8526</td>\n",
       "      <td>N</td>\n",
       "      <td>-7439.5546</td>\n",
       "      <td>W</td>\n",
       "      <td>0.16</td>\n",
       "      <td>160.26</td>\n",
       "      <td>60317</td>\n",
       "      <td>NaN</td>\n",
       "      <td>NaN</td>\n",
       "      <td>A*78</td>\n",
       "    </tr>\n",
       "    <tr>\n",
       "      <th>9</th>\n",
       "      <td>$GPRMC</td>\n",
       "      <td>52717.000</td>\n",
       "      <td>A</td>\n",
       "      <td>4020.8525</td>\n",
       "      <td>N</td>\n",
       "      <td>-7439.5549</td>\n",
       "      <td>W</td>\n",
       "      <td>0.04</td>\n",
       "      <td>99.51</td>\n",
       "      <td>60317</td>\n",
       "      <td>NaN</td>\n",
       "      <td>NaN</td>\n",
       "      <td>A*41</td>\n",
       "    </tr>\n",
       "  </tbody>\n",
       "</table>\n",
       "</div>"
      ],
      "text/plain": [
       "       ID       Time Status   Latitude NS  Longitude EW  Knots  Track_Angle  \\\n",
       "0  $GPRMC  52708.000      A  4020.8515  N -7439.5525  W   0.22         0.41   \n",
       "1  $GPRMC  52709.000      A  4020.8515  N -7439.5526  W   0.04       221.42   \n",
       "2  $GPRMC  52710.000      A  4020.8518  N -7439.5530  W   0.17       347.57   \n",
       "3  $GPRMC  52711.000      A  4020.8521  N -7439.5534  W   0.21        44.03   \n",
       "4  $GPRMC  52712.000      A  4020.8523  N -7439.5538  W   0.12       324.49   \n",
       "5  $GPRMC  52712.209      A  4020.8524  N -7439.5540  W   0.10       317.39   \n",
       "6  $GPRMC  52714.000      A  4020.8525  N -7439.5542  W   0.14         3.79   \n",
       "7  $GPRMC  52715.000      A  4020.8526  N -7439.5544  W   0.15       330.85   \n",
       "8  $GPRMC  52716.000      A  4020.8526  N -7439.5546  W   0.16       160.26   \n",
       "9  $GPRMC  52717.000      A  4020.8525  N -7439.5549  W   0.04        99.51   \n",
       "\n",
       "    Date  Other1  Other 2 Other3  \n",
       "0  60317     NaN      NaN   A*73  \n",
       "1  60317     NaN      NaN   A*77  \n",
       "2  60317     NaN      NaN   A*72  \n",
       "3  60317     NaN      NaN   A*49  \n",
       "4  60317     NaN      NaN   A*7F  \n",
       "5  60317     NaN      NaN   A*79  \n",
       "6  60317     NaN      NaN   A*71  \n",
       "7  60317     NaN      NaN   A*74  \n",
       "8  60317     NaN      NaN   A*78  \n",
       "9  60317     NaN      NaN   A*41  "
      ]
     },
     "execution_count": 45,
     "metadata": {},
     "output_type": "execute_result"
    }
   ],
   "source": [
    "data2.head(10)"
   ]
  },
  {
   "cell_type": "markdown",
   "metadata": {},
   "source": [
    "<b>An example of fairly robust GPS data:</b>"
   ]
  },
  {
   "cell_type": "code",
   "execution_count": 43,
   "metadata": {
    "collapsed": false
   },
   "outputs": [
    {
     "data": {
      "image/png": "[encoded data removed]",
      "text/plain": [
       "<matplotlib.figure.Figure at 0x1191f6590>"
      ]
     },
     "metadata": {},
     "output_type": "display_data"
    }
   ],
   "source": [
    "data1.plot(kind=\"scatter\", y=\"Latitude\", x=\"Longitude\")\n",
    "img = Image.open('test1.png')\n",
    "img.show()"
   ]
  },
  {
   "cell_type": "markdown",
   "metadata": {},
   "source": [
    "<b>An example of not so robust GPS data:</b>\n",
    "<p>\n",
    "    Issues with foliage?\n",
    "    External antenna?\n",
    "    Differential vs autonomous mode?\n",
    "</p>"
   ]
  },
  {
   "cell_type": "code",
   "execution_count": 44,
   "metadata": {
    "collapsed": false
   },
   "outputs": [
    {
     "data": {
      "image/png": "[encoded data removed]",
      "text/plain": [
       "<matplotlib.figure.Figure at 0x11ad67d50>"
      ]
     },
     "metadata": {},
     "output_type": "display_data"
    }
   ],
   "source": [
    "data2.plot(kind=\"scatter\", y=\"Latitude\", x=\"Longitude\")\n",
    "img = Image.open('test2.png')\n",
    "img.show()"
   ]
  },
  {
   "cell_type": "markdown",
   "metadata": {},
   "source": [
    "<h3>GPS data + RFE data into python</h3>\n"
   ]
  },
  {
   "cell_type": "code",
   "execution_count": null,
   "metadata": {
    "collapsed": true
   },
   "outputs": [],
   "source": []
  }
 ],
 "metadata": {
  "anaconda-cloud": {},
  "kernelspec": {
   "display_name": "Python [Root]",
   "language": "python",
   "name": "Python [Root]"
  },
  "language_info": {
   "codemirror_mode": {
    "name": "ipython",
    "version": 2
   },
   "file_extension": ".py",
   "mimetype": "text/x-python",
   "name": "python",
   "nbconvert_exporter": "python",
   "pygments_lexer": "ipython2",
   "version": "2.7.12"
  }
 },
 "nbformat": 4,
 "nbformat_minor": 0
}
